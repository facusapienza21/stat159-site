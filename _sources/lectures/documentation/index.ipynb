{
 "cells": [
  {
   "cell_type": "markdown",
   "id": "3723b403-64e4-4965-8959-436b307c9c11",
   "metadata": {},
   "source": [
    "## Documentation"
   ]
  },
  {
   "cell_type": "markdown",
   "id": "5d3ecc2d-a0f4-4dee-bcd2-907872db9099",
   "metadata": {},
   "source": [
    "There are many instances where we are concert about _documenting_ the progress of science. Here we found scientific papers, where we write down the analysis we did. \n",
    "\n",
    "Some of these journals where originally called letters. \n",
    "\n",
    "However, there are many spheres where we care about documenting code. These include\n",
    "- Commenting your code. Good practices for documenting code? Comments must part of the code as long as they improve the readability of the code. "
   ]
  },
  {
   "cell_type": "markdown",
   "id": "d1881b31-445c-4b64-a8a3-ee4f6366c08e",
   "metadata": {},
   "source": [
    "* A quick overview of: [The Documentation System](https://documentation.divio.com)\n",
    "\n",
    "![](../images/doc-quadrants.png)\n",
    "![](../images/doc-table.png)\n",
    "\n",
    "* [JupyterBook 101](https://docs.google.com/presentation/d/1D7jZ9mI-VcU9-s9IEEuGCvQH4rm5Bpwc3xek1Mu_Nak/edit#slide=id.g1057b8b45eb_0_2)\n",
    "\n",
    "\n",
    "* Getting this to work on the hub?\n",
    "\n",
    "We need to run sphinx manually. These are the key commands for your reference:\n",
    "\n",
    "```bash\n",
    "jupyter-book config sphinx .\n",
    "sphinx-build  . _build/html -D html_baseurl=${JUPYTERHUB_SERVICE_PREFIX}/proxy/absolute/8000\n",
    "```\n",
    "\n",
    "Then we can view the code with (in another terminal), going to the `_build/html` folder and running:\n",
    "\n",
    "```bash\n",
    "python -m http.server\n",
    "```\n",
    "\n",
    "and then heading to this URL:\n",
    "\n",
    "[https://stat159.datahub.berkeley.edu/user-redirect/proxy/8000/index.html](https://stat159.datahub.berkeley.edu/user-redirect/proxy/8000/index.html)\n",
    "\n",
    "\n"
   ]
  },
  {
   "cell_type": "code",
   "execution_count": null,
   "id": "4341e6bb-b905-4088-9c27-85b84797522e",
   "metadata": {},
   "outputs": [],
   "source": []
  }
 ],
 "metadata": {
  "kernelspec": {
   "display_name": "Python 3 (ipykernel)",
   "language": "python",
   "name": "python3"
  },
  "language_info": {
   "codemirror_mode": {
    "name": "ipython",
    "version": 3
   },
   "file_extension": ".py",
   "mimetype": "text/x-python",
   "name": "python",
   "nbconvert_exporter": "python",
   "pygments_lexer": "ipython3",
   "version": "3.10.8"
  }
 },
 "nbformat": 4,
 "nbformat_minor": 5
}
