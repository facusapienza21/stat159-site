{
 "cells": [
  {
   "cell_type": "markdown",
   "id": "31af9427-bf97-4799-a0e4-dd999526b995",
   "metadata": {
    "user_expressions": []
   },
   "source": [
    "## Jupyter Book"
   ]
  },
  {
   "cell_type": "code",
   "execution_count": null,
   "id": "563a1bcd-4aaa-41f6-97e5-5e35fda4db1d",
   "metadata": {},
   "outputs": [],
   "source": []
  },
  {
   "cell_type": "code",
   "execution_count": null,
   "id": "61a6fe90-763a-4521-91e4-c25724766b24",
   "metadata": {},
   "outputs": [],
   "source": []
  },
  {
   "cell_type": "markdown",
   "id": "cf9694ea-a0e6-4538-8a40-b53dd409bf59",
   "metadata": {
    "user_expressions": []
   },
   "source": [
    "## GitHub Pages\n",
    "\n",
    "Github allow us to host online websites and then publish our documentation online. This is exactly what Jupyter Book uses. \n",
    "\n",
    "You have been already exposed to GitHub pages thought this website. This website is deployed using GitHub pages and you can see that in the url of this website: \n",
    "\n",
    "There are ways in you can integrate new changes using continuous integration supported by GitHub actions. We are going to put this in practice using Jupyter Book. "
   ]
  },
  {
   "cell_type": "markdown",
   "id": "fe615fbf-ebcd-47c1-8bcd-cf6664653d6c",
   "metadata": {
    "user_expressions": []
   },
   "source": [
    "### What is Jupyter Book?\n",
    "\n",
    "Jupyter Book allows grabbing a collection of notebooks, markdown files, etc intro an enriched explorable book or article that can be deployed online. \n",
    "JB is a tool that \n",
    "\n",
    "- \n",
    "- \n",
    "- "
   ]
  },
  {
   "cell_type": "markdown",
   "id": "0b66b56b-0edf-40f3-a0f6-715938982162",
   "metadata": {
    "user_expressions": []
   },
   "source": [
    "### Building a Book\n",
    "\n",
    "If you are working in the Stat159 JupyterHub, your already have Jupyter Book installed. You can check this by entering \n",
    "```bash\n",
    "jupyter-book --help\n",
    "```\n",
    "in your terminal. \n",
    "\n",
    "````{tip}\n",
    "You can use either `jupyter-book` or `jb` to call Jupyter Book. For example, you can run the previous command with \n",
    "```bash\n",
    "jb --help\n",
    "```\n",
    "````"
   ]
  },
  {
   "cell_type": "markdown",
   "id": "d9469b59-97f6-4297-9035-d3249b3da88f",
   "metadata": {
    "user_expressions": []
   },
   "source": [
    "You can create a minimalistic book with the following command\n",
    "```bash\n",
    "jupyter-book create mybook/\n",
    "```"
   ]
  },
  {
   "cell_type": "markdown",
   "id": "12fe7ca8-855a-417e-bfd2-753bc72f0d13",
   "metadata": {
    "user_expressions": []
   },
   "source": [
    "This will create a new folder with some basic contents that are required to create and deploy the book. The important files you need to include \n",
    "- `_toc.yml`\n",
    "- `_config.yml`"
   ]
  },
  {
   "cell_type": "code",
   "execution_count": null,
   "id": "044bfd12-ecbd-47e9-9e26-73ec61577f47",
   "metadata": {},
   "outputs": [],
   "source": []
  },
  {
   "cell_type": "markdown",
   "id": "5dc0a7c4-3811-4813-a5b7-2f0de3135041",
   "metadata": {
    "user_expressions": []
   },
   "source": [
    "```{note}\n",
    "Sphinx is the Python tool that builds and create all this documentation. \n",
    "```"
   ]
  },
  {
   "cell_type": "markdown",
   "id": "b4fac7f6-6b97-459f-978d-408fee98f937",
   "metadata": {
    "user_expressions": []
   },
   "source": [
    "````{warning}\n",
    "If we do this from the Star159 Hub, we won't be able to open the html file. This is because we are logged in from the cloud server. If we build our book from our local machine, we will be able to open the `html` files in local.\n",
    "\n",
    "In order to make this work in the Hub, we need to use this following command \n",
    "```bash\n",
    "jupyter-book config sphinx .\n",
    "```\n",
    "This will write a new file called `conf.py` in our book directory. This configuration files allow us to make the configuration in the cloud and trigger sphinx manually with this configuration file. Once we have this `conf.py` file, we do \n",
    "```bash\n",
    "sphinx-build  . _build/html  -D html_baseurl=${JUPYTERHUB_SERVICE_PREFIX}/proxy/absolute/8000\n",
    "```\n",
    "which builds the website that will be available trough a different address. \n",
    "````"
   ]
  },
  {
   "cell_type": "code",
   "execution_count": null,
   "id": "6b19321f-7409-4810-8402-4185211b3c8d",
   "metadata": {},
   "outputs": [],
   "source": []
  },
  {
   "cell_type": "markdown",
   "id": "1588f404-d579-4a2f-b9a7-1f08056a443e",
   "metadata": {
    "user_expressions": []
   },
   "source": [
    "```{warning}\n",
    "When adding new files to the table of contents `_toc.yml`, you need to build the book with the extra flag `--all`. \n",
    "```"
   ]
  },
  {
   "cell_type": "markdown",
   "id": "1b8d4366-52e5-486c-a89a-b362128dd747",
   "metadata": {
    "user_expressions": []
   },
   "source": [
    "### Deploy Book Online"
   ]
  },
  {
   "cell_type": "code",
   "execution_count": null,
   "id": "d31a1ac3-f096-4696-9f1e-819cdbe658ad",
   "metadata": {},
   "outputs": [],
   "source": []
  }
 ],
 "metadata": {
  "kernelspec": {
   "display_name": "Python 3 (ipykernel)",
   "language": "python",
   "name": "python3"
  },
  "language_info": {
   "codemirror_mode": {
    "name": "ipython",
    "version": 3
   },
   "file_extension": ".py",
   "mimetype": "text/x-python",
   "name": "python",
   "nbconvert_exporter": "python",
   "pygments_lexer": "ipython3",
   "version": "3.10.8"
  }
 },
 "nbformat": 4,
 "nbformat_minor": 5
}
