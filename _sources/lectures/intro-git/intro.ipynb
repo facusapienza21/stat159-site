{
 "cells": [
  {
   "cell_type": "markdown",
   "id": "10da7468-60ce-4a0e-a593-67fdd1b24c97",
   "metadata": {},
   "source": [
    "# Git\n",
    "\n",
    "## An interactive Git Tutorial: the tool you didn't know you needed"
   ]
  },
  {
   "cell_type": "markdown",
   "id": "40bfb200-e3b9-4cbb-b37e-fbcf06fcc0ad",
   "metadata": {},
   "source": [
    "**Note:** this tutorial was particularly modeled, and therefore owes a lot, to the excellent materials offered in:\n",
    "\n",
    "1. \"Git for Scientists: A Tutorial\" by John McDonnell (no link as this tutorial seems to have disappeared from the internet).\n",
    "1. Emanuele Olivetti's lecture notes and exercises from the G-Node summer school on [Advanced Scientific Programming in Python](https://python.g-node.org/wiki/schedule).\n",
    "\n",
    "In particular I've reused the excellent images from the [Pro Git book](http://git-scm.com/book) that John had already selected and downloaded, as well as some of his outline.  But this version of the tutorial aims to be 100% reproducible by being executed directly as an IPython notebook and is hosted itself on github so that others can more easily make improvements to it by collaborating on Github.  Many thanks to John and Emanuele for making their materials available online.\n",
    "\n",
    "After writing this document, I discovered [J.R. Johansson](https://github.com/jrjohansson)'s [tutorial on version control](http://nbviewer.ipython.org/urls/raw.github.com/jrjohansson/scientific-python-lectures/master/Lecture-7-Revision-Control-Software.ipynb) that is also written as a fully reproducible notebook and is also aimed at a scientific audience.  It has a similar spirit to this one, and is part of his excellent series [Lectures on Scientific Computing with Python](https://github.com/jrjohansson/scientific-python-lectures) that is entirely available as Jupyter Notebooks."
   ]
  },
  {
   "cell_type": "markdown",
   "id": "c944ad4b-fcab-44f3-9668-4c64f5b66101",
   "metadata": {},
   "source": [
    "Wikipedia difines version control as\n",
    "\n",
    "```{admonition} Version control\n",
    "Revision control, also known as version control, source control\n",
    "or software configuration management (SCM), is the\n",
    "management of changes to documents, programs, and other\n",
    "information stored as computer files.\n",
    "```\n",
    "\n",
    "How does this help us to buils reproducible workflows?\n",
    "\n",
    "* Tracking and recreating every step of your work\n",
    "* In the software world: it's called*Version Control!\n",
    "\n",
    "What do (good) version control tools give you?\n",
    "\n",
    "* Peace of mind (backups)\n",
    "* Freedom (exploratory branching)\n",
    "* Collaboration (synchronization)"
   ]
  },
  {
   "cell_type": "markdown",
   "id": "f8b78cb2-72ad-4342-aa62-3b2ccdca7da6",
   "metadata": {},
   "source": [
    "Git is an enabling technology, the idea is that we can use version control for everything:\n",
    "\n",
    "* Paper writing (never get `paper_v5_john_jane_final_oct22_really_final.tex` by email again!)\n",
    "* Grant writing\n",
    "* Everyday research\n",
    "* Teaching (never accept an emailed homework assignment again!)"
   ]
  },
  {
   "cell_type": "markdown",
   "id": "215b5fc1-d7b3-44a8-8d92-5d263bd5ddc8",
   "metadata": {},
   "source": [
    "## The plan for this tutorial\n",
    "\n",
    "This tutorial is structured in the following way: we will begin with a brief overview of key concepts you need to understand in order for git to really make sense.  We will then dive into hands-on work: after a brief interlude into necessary configuration we will discuss 5 \"stages of git\" with scenarios of increasing sophistication and complexity, introducing the necessary commands for each stage:\n",
    "            \n",
    "1. Local, single-user, linear workflow\n",
    "2. Single local user, branching\n",
    "3. Using remotes as a single user\n",
    "4. Remotes for collaborating in a small team\n",
    "5. Full-contact github: distributed collaboration with large teams\n",
    "    \n",
    "In reality, this tutorial only covers stages 1-4, since for #5 there are many software develoment-oriented tutorials and documents of very high quality online.  But most scientists start working alone with a few files or with a small team, so I feel it's important to build first the key concepts and practices based on problems scientists encounter in their everyday life and without the jargon of the software world.  Once you've become familiar with 1-4, the excellent tutorials that exist about collaborating on github on open-source projects should make sense."
   ]
  },
  {
   "cell_type": "code",
   "execution_count": null,
   "id": "d6d53cc8-6c5a-43c1-adf9-8d413d109ad0",
   "metadata": {},
   "outputs": [],
   "source": []
  }
 ],
 "metadata": {
  "kernelspec": {
   "display_name": "Python 3 (ipykernel)",
   "language": "python",
   "name": "python3"
  },
  "language_info": {
   "codemirror_mode": {
    "name": "ipython",
    "version": 3
   },
   "file_extension": ".py",
   "mimetype": "text/x-python",
   "name": "python",
   "nbconvert_exporter": "python",
   "pygments_lexer": "ipython3",
   "version": "3.10.8"
  }
 },
 "nbformat": 4,
 "nbformat_minor": 5
}
